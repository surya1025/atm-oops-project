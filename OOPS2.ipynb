{
  "nbformat": 4,
  "nbformat_minor": 0,
  "metadata": {
    "colab": {
      "provenance": []
    },
    "kernelspec": {
      "name": "python3",
      "display_name": "Python 3"
    },
    "language_info": {
      "name": "python"
    }
  },
  "cells": [
    {
      "cell_type": "code",
      "execution_count": 5,
      "metadata": {
        "colab": {
          "base_uri": "https://localhost:8080/"
        },
        "id": "AWuZHXI3CH8k",
        "outputId": "eb4030dc-24d4-4390-81b3-b9bdb88770ab"
      },
      "outputs": [
        {
          "output_type": "execute_result",
          "data": {
            "text/plain": [
              "{'entities': [{'start': 26,\n",
              "   'end': 36,\n",
              "   'type': 'programming language',\n",
              "   'text': 'Javascript'},\n",
              "  {'start': 102, 'end': 108, 'type': 'programming language', 'text': 'Python'},\n",
              "  {'start': 26, 'end': 30, 'type': 'programming language', 'text': 'java'},\n",
              "  {'start': 169, 'end': 171, 'type': 'programming language', 'text': 'Go'}]}"
            ]
          },
          "metadata": {},
          "execution_count": 5
        }
      ],
      "source": []
    },
    {
      "cell_type": "code",
      "source": [
        "!pip install nlpcloud"
      ],
      "metadata": {
        "colab": {
          "base_uri": "https://localhost:8080/"
        },
        "id": "yn2OpmJGCiF5",
        "outputId": "1a566aed-19b8-4b70-8498-afb6a215658b"
      },
      "execution_count": 3,
      "outputs": [
        {
          "output_type": "stream",
          "name": "stdout",
          "text": [
            "Requirement already satisfied: nlpcloud in /usr/local/lib/python3.11/dist-packages (1.1.47)\n",
            "Requirement already satisfied: requests in /usr/local/lib/python3.11/dist-packages (from nlpcloud) (2.32.3)\n",
            "Requirement already satisfied: charset-normalizer<4,>=2 in /usr/local/lib/python3.11/dist-packages (from requests->nlpcloud) (3.4.2)\n",
            "Requirement already satisfied: idna<4,>=2.5 in /usr/local/lib/python3.11/dist-packages (from requests->nlpcloud) (3.10)\n",
            "Requirement already satisfied: urllib3<3,>=1.21.1 in /usr/local/lib/python3.11/dist-packages (from requests->nlpcloud) (2.4.0)\n",
            "Requirement already satisfied: certifi>=2017.4.17 in /usr/local/lib/python3.11/dist-packages (from requests->nlpcloud) (2025.4.26)\n"
          ]
        }
      ]
    },
    {
      "cell_type": "code",
      "source": [
        "import nlpcloud\n",
        "\n",
        "\n",
        "class NLPApp:\n",
        "  def __init__(self):\n",
        "    self.__database={}\n",
        "    self.__first_menu()\n",
        "\n",
        "\n",
        "  def __first_menu(self):\n",
        "    first_input = input(\"\"\"\n",
        "    Hi! how would you like to proceed?\n",
        "    1. Not a member? Register\n",
        "    2. Already a member? Login\n",
        "    3. Galti se aa gaye? Exit\n",
        "    \"\"\")\n",
        "    if first_input==\"1\":\n",
        "      self.__register()\n",
        "    elif first_input==\"2\":\n",
        "      self.__login()\n",
        "    else:\n",
        "      exit()\n",
        "\n",
        "\n",
        "  def __register(self):\n",
        "    name=input(\"Enter your name\")\n",
        "    email=input(\"Enter your E-Mail\")\n",
        "    password=input(\"Enter the password\")\n",
        "\n",
        "    if email in self.__database:\n",
        "      print(\"Email already exists\")\n",
        "    else:\n",
        "      self.__database[email]=[name,password]\n",
        "      print(\"Registered Successfully,Now login\")\n",
        "      print(self.__database)\n",
        "      self.__first_menu()\n",
        "\n",
        "\n",
        "  def __login(self):\n",
        "    email=input(\"enter the email\")\n",
        "    password=input(\"enter the password\")\n",
        "\n",
        "    if email in self.__database:\n",
        "      if self.__database[email][1]==password:\n",
        "        print(\"Login successfull\")\n",
        "        self.__second_menu()\n",
        "      else:\n",
        "        print(\"wrong password\")\n",
        "        self.__login()\n",
        "    else:\n",
        "      print(\"This email is not registered.Please register\")\n",
        "      self.__register()\n",
        "\n",
        "\n",
        "  def __second_menu(self):\n",
        "    second_input = input(\"\"\"\n",
        "    Hi! how would you like to proceed?\n",
        "    1. NER\n",
        "    2. Language Detection\n",
        "    3. Sentimental Analysis\n",
        "    4. Logout\n",
        "    \"\"\")\n",
        "    if second_input==\"1\":\n",
        "      self.__ner()\n",
        "    elif second_input==\"2\":\n",
        "      self.__language_detection()\n",
        "    elif second_input==\"3\":\n",
        "      self.__sentimental_analysis()\n",
        "    else:\n",
        "      exit()\n",
        "\n",
        "  def __ner(self):\n",
        "    para=input(\"Enter the paragraph\")\n",
        "    search_term=input(\"Enter the search term\")\n",
        "\n",
        "\n",
        "    client = nlpcloud.Client(\"finetuned-llama-3-70b\", \"1a6d614da7f6eb270b69fdd2878c722360359312\", gpu=True)\n",
        "    response = client.entities(para,search_term)\n",
        "    print(response)\n",
        "\n",
        "\n",
        "\n",
        "  def __language_detection(self):\n",
        "    para=input(\"Enter the paragraph\")\n",
        "\n",
        "\n",
        "    client = nlpcloud.Client(\"python-langdetect\", \"1a6d614da7f6eb270b69fdd2878c722360359312\", gpu=False)\n",
        "    response = client.lang_detection(para)\n",
        "    print(response)\n",
        "\n",
        "\n",
        "\n",
        "  def __sentimental_analysis(self):\n",
        "    para=input(\"Enter the paragraph\")\n",
        "\n",
        "\n",
        "\n",
        "    client = nlpcloud.Client(\"finetuned-llama-3-70b\", \"1a6d614da7f6eb270b69fdd2878c722360359312\", gpu=True)\n",
        "    response = client.sentiment(para,target=\"NLP Cloud\")\n",
        "    print(response)"
      ],
      "metadata": {
        "id": "2-qX4I1TCktS"
      },
      "execution_count": 1,
      "outputs": []
    },
    {
      "cell_type": "code",
      "source": [
        "mem1=NLPApp()"
      ],
      "metadata": {
        "colab": {
          "base_uri": "https://localhost:8080/"
        },
        "id": "ItrxzMhwEU9s",
        "outputId": "cfd8c3a3-d5e7-4bd0-ed7a-d620ab87228a"
      },
      "execution_count": 2,
      "outputs": [
        {
          "output_type": "stream",
          "name": "stdout",
          "text": [
            "\n",
            "    Hi! how would you like to proceed?\n",
            "    1. Not a member? Register\n",
            "    2. Already a member? Login\n",
            "    3. Galti se aa gaye? Exit\n",
            "    1\n",
            "Enter your names\n",
            "Enter your E-Mails\n",
            "Enter the password1\n",
            "Registered Successfully,Now login\n",
            "{'s': ['s', '1']}\n",
            "\n",
            "    Hi! how would you like to proceed?\n",
            "    1. Not a member? Register\n",
            "    2. Already a member? Login\n",
            "    3. Galti se aa gaye? Exit\n",
            "    2\n",
            "enter the emails\n",
            "enter the password1\n",
            "Login successfull\n",
            "\n",
            "    Hi! how would you like to proceed?\n",
            "    1. NER\n",
            "    2. Language Detection\n",
            "    3. Sentimental Analysis\n",
            "    4. Logout\n",
            "    3\n",
            "Enter the paragraphthe movie is predictable too much vulgarity its hard to recommend\n",
            "{'scored_labels': [{'label': 'NEGATIVE', 'score': 1}, {'label': 'frustration', 'score': 1}]}\n"
          ]
        }
      ]
    },
    {
      "cell_type": "code",
      "source": [],
      "metadata": {
        "id": "4K65T_1bTki3"
      },
      "execution_count": null,
      "outputs": []
    }
  ]
}