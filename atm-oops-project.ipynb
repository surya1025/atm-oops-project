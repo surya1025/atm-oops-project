{
 "cells": [
  {
   "cell_type": "code",
   "execution_count": 1,
   "id": "92287946-5d6a-4c27-a44a-3a34865500ab",
   "metadata": {},
   "outputs": [],
   "source": [
    "class Atm:\n",
    "    def __init__(self):\n",
    "        self.pin=\"\"\n",
    "        self.balance=0\n",
    "        self.menu()\n",
    "    def menu(self):\n",
    "        user_input = int(input(\"\"\"Hi how can I help you?\n",
    "    1. Press 1 to create pin\n",
    "    2. Press 2 to change pin\n",
    "    3. Press 3 to check balance\n",
    "    4. Press 4 to withdraw\n",
    "    5. Anything else to exit\n",
    "    \"\"\"))\n",
    "        if user_input==1:\n",
    "            self.create_pin()\n",
    "        elif user_input==2:\n",
    "            #change pin\n",
    "            pass\n",
    "        elif user_input==3:\n",
    "            #check balance\n",
    "            pass\n",
    "        elif user_input==4:\n",
    "            #withdraw\n",
    "            pass\n",
    "        else:\n",
    "            exit()\n",
    "\n",
    "    def create_pin(self):\n",
    "        user_pin=int(input(\"Enter your pin\"))\n",
    "        self.pin=user_pin\n",
    "        user_balance=int(input(\"Enter how much balance in yyour account\"))\n",
    "        self.balance=user_balance\n",
    "        print(\"PIN created successfully\")\n",
    "        self.menu()\n",
    "\n",
    "    def change_pin(self):\n",
    "        old_pin=int(input(\"Enter your old pin\")\n",
    "        if old_pin==self.pin:\n",
    "                new_pin=int(input(\"Enter the new pin\"))\n",
    "                self.pin=new_pin\n",
    "        print(\"PIN changed successfully\")\n",
    "        self.menu()\n",
    "else:\n",
    "\n",
    "        \n",
    "        \n",
    "    \n",
    "            "
   ]
  },
  {
   "cell_type": "code",
   "execution_count": 2,
   "id": "b30d30c5-c597-4726-9626-250bf82a0117",
   "metadata": {},
   "outputs": [
    {
     "name": "stdin",
     "output_type": "stream",
     "text": [
      "Hi how can I help you?\n",
      "    1. Press 1 to create pin\n",
      "    2. Press 2 to change pin\n",
      "    3. Press 3 to check balance\n",
      "    4. Press 4 to withdraw\n",
      "    5. Anything else to exit\n",
      "     1\n",
      "Enter your pin 534122\n",
      "Enter how much balance in yyour account 8000\n"
     ]
    },
    {
     "name": "stdout",
     "output_type": "stream",
     "text": [
      "PIN created successfully\n"
     ]
    }
   ],
   "source": [
    "obj=Atm()"
   ]
  },
  {
   "cell_type": "code",
   "execution_count": null,
   "id": "e7a09db5-fe1c-435b-93a1-e6361074f3eb",
   "metadata": {},
   "outputs": [],
   "source": []
  }
 ],
 "metadata": {
  "kernelspec": {
   "display_name": "Python 3 (ipykernel)",
   "language": "python",
   "name": "python3"
  },
  "language_info": {
   "codemirror_mode": {
    "name": "ipython",
    "version": 3
   },
   "file_extension": ".py",
   "mimetype": "text/x-python",
   "name": "python",
   "nbconvert_exporter": "python",
   "pygments_lexer": "ipython3",
   "version": "3.12.2"
  }
 },
 "nbformat": 4,
 "nbformat_minor": 5
}
